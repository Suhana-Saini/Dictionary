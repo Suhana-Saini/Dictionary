{
 "cells": [
  {
   "cell_type": "code",
   "execution_count": 6,
   "id": "52c9946e",
   "metadata": {},
   "outputs": [
    {
     "name": "stdout",
     "output_type": "stream",
     "text": [
      "dict_keys(['Suhana', 'Mohit', 'Alice'])\n"
     ]
    }
   ],
   "source": [
    "dict={\n",
    "    \"Suhana\":21,\n",
    "    \"Mohit\":25,\n",
    "    \"Alice\":32\n",
    "}\n",
    "x=dict.keys()\n",
    "print(x)"
   ]
  },
  {
   "cell_type": "code",
   "execution_count": 7,
   "id": "98b9c19b",
   "metadata": {},
   "outputs": [
    {
     "name": "stdout",
     "output_type": "stream",
     "text": [
      "dict_values([21, 25, 32])\n"
     ]
    }
   ],
   "source": [
    "y=dict.values()\n",
    "print(y)"
   ]
  },
  {
   "cell_type": "code",
   "execution_count": 8,
   "id": "02536cd6",
   "metadata": {},
   "outputs": [
    {
     "name": "stdout",
     "output_type": "stream",
     "text": [
      "25\n"
     ]
    }
   ],
   "source": [
    "print(dict[\"Mohit\"])"
   ]
  },
  {
   "cell_type": "code",
   "execution_count": null,
   "id": "19d441f8",
   "metadata": {},
   "outputs": [],
   "source": []
  }
 ],
 "metadata": {
  "kernelspec": {
   "display_name": "Python 3",
   "language": "python",
   "name": "python3"
  },
  "language_info": {
   "codemirror_mode": {
    "name": "ipython",
    "version": 3
   },
   "file_extension": ".py",
   "mimetype": "text/x-python",
   "name": "python",
   "nbconvert_exporter": "python",
   "pygments_lexer": "ipython3",
   "version": "3.8.8"
  }
 },
 "nbformat": 4,
 "nbformat_minor": 5
}
